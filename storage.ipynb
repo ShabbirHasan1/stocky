{
 "cells": [
  {
   "cell_type": "code",
   "execution_count": 1,
   "metadata": {},
   "outputs": [],
   "source": [
    "from firebase_admin import initialize_app, auth\n",
    "from firebase_admin.auth import UserRecord\n",
    "from firebase_admin import storage, credentials\n",
    "import os\n",
    "from dotenv import load_dotenv\n",
    "load_dotenv()\n",
    "\n",
    "devCred = credentials.Certificate(os.environ.get(\"GOOGLE_APPLICATION_CREDENTIALS\"))\n",
    "default = initialize_app()\n",
    "app = initialize_app(devCred, {'storageBucket': 'solid-umbrella-30912.appspot.com'}, name=\"dev\")\n",
    "bucket = storage.bucket('solid-umbrella-30912.appspot.com')"
   ]
  },
  {
   "cell_type": "code",
   "execution_count": 2,
   "metadata": {},
   "outputs": [],
   "source": [
    "blob = bucket.blob(\"userData/testUser/holdings/holdings.json\")"
   ]
  },
  {
   "cell_type": "code",
   "execution_count": 8,
   "metadata": {},
   "outputs": [],
   "source": [
    "with open(\"zerodha/holdings.json\", \"r\") as file:\n",
    "    blob.upload_from_string(file.read())"
   ]
  },
  {
   "cell_type": "code",
   "execution_count": null,
   "metadata": {},
   "outputs": [],
   "source": []
  }
 ],
 "metadata": {
  "kernelspec": {
   "display_name": "env",
   "language": "python",
   "name": "env"
  },
  "language_info": {
   "codemirror_mode": {
    "name": "ipython",
    "version": 3
   },
   "file_extension": ".py",
   "mimetype": "text/x-python",
   "name": "python",
   "nbconvert_exporter": "python",
   "pygments_lexer": "ipython3",
   "version": "3.8.5"
  }
 },
 "nbformat": 4,
 "nbformat_minor": 4
}
