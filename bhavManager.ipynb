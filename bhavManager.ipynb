{
 "cells": [
  {
   "cell_type": "markdown",
   "metadata": {},
   "source": [
    "**Add env kernel**\n",
    "1. `pip install --user ipykernel`\n",
    "2. `python -m ipykernel install --user --name=env`\n",
    "\n",
    "**Remove env kernel**\n",
    "`jupyter kernelspec uninstall env`"
   ]
  },
  {
   "cell_type": "code",
   "execution_count": 2,
   "metadata": {
    "scrolled": true
   },
   "outputs": [],
   "source": [
    "from cs50 import SQL\n",
    "import sqlite3 as lite\n",
    "import pandas as pd\n",
    "import numpy as np\n",
    "import csv"
   ]
  },
  {
   "cell_type": "markdown",
   "metadata": {},
   "source": [
    "**Process NSE & BSE Bhav copies**\n",
    "1. Open both files\n",
    "2. Remove trailing spaces using regex"
   ]
  },
  {
   "cell_type": "code",
   "execution_count": 3,
   "metadata": {},
   "outputs": [],
   "source": [
    "nseBhavPath = f\"bhavData/NSE-20210401.csv\"\n",
    "bseBhavPath = f\"bhavData/BSE-20210401.csv\"\n",
    "nseBhav = pd.read_csv(nseBhavPath)\n",
    "bseBhav = pd.read_csv(bseBhavPath)\n",
    "bseBhav = bseBhav.replace({r\"^\\s*|\\s*$\":\"\"}, regex=True)\n",
    "nseBhav = nseBhav.replace({r\"^\\s*|\\s*$\":\"\"}, regex=True)"
   ]
  },
  {
   "cell_type": "markdown",
   "metadata": {},
   "source": [
    "**Slice NSEBHAV to have only ISIN, SYMBOL, and SERIES**\n",
    "**Sanitize NSE GB Names to match with Zerodha**"
   ]
  },
  {
   "cell_type": "code",
   "execution_count": 4,
   "metadata": {},
   "outputs": [],
   "source": [
    "nseBhav = nseBhav[[\"ISIN\",\"SYMBOL\", \"SERIES\", ]]\n",
    "nseBhav[\"SYMBOL\"] = np.where(nseBhav[\"SERIES\"] == \"GB\", nseBhav[\"SYMBOL\"] +\"-\" + nseBhav[\"SERIES\"], nseBhav[\"SYMBOL\"])\n",
    "nseBhav.rename(columns={\"ISIN\": \"isin\", \"SYMBOL\": \"nse_symbol\", \"SERIES\":\"nse_series\"}, inplace=True)"
   ]
  },
  {
   "cell_type": "code",
   "execution_count": 5,
   "metadata": {},
   "outputs": [],
   "source": [
    "bseBhav=bseBhav[[\"ISIN_CODE\", \"SC_CODE\", \"SC_NAME\", \"SC_GROUP\", \"SC_TYPE\"]]\n",
    "bseBhav.rename(columns = {\"ISIN_CODE\":\"isin\", \"SC_CODE\":\"bse_sc_code\", \"SC_GROUP\":\"bse_sc_group\", \"SC_TYPE\": \"bse_sc_type\"}, inplace=True)\n",
    "bseBhav[\"bse_sc_code\"] = bseBhav[\"bse_sc_code\"].astype(str)"
   ]
  },
  {
   "cell_type": "code",
   "execution_count": 6,
   "metadata": {},
   "outputs": [],
   "source": [
    "bhavList = pd.merge(nseBhav, bseBhav, on=\"isin\", how=\"outer\")"
   ]
  },
  {
   "cell_type": "markdown",
   "metadata": {},
   "source": [
    "**Open scrip.db and delete previous version of data**"
   ]
  },
  {
   "cell_type": "code",
   "execution_count": 6,
   "metadata": {},
   "outputs": [],
   "source": [
    "con = lite.connect(\"bhavData/bhavList.db\")\n",
    "cur = con.cursor()\n",
    "try:\n",
    "    cur.execute(\"DROP TABLE bhavList\")\n",
    "except Exception as e:\n",
    "    print(e)"
   ]
  },
  {
   "cell_type": "code",
   "execution_count": 7,
   "metadata": {},
   "outputs": [],
   "source": [
    "bhavList.to_sql(\"bhavList\", con)\n",
    "con.commit()\n",
    "con.close()"
   ]
  },
  {
   "cell_type": "code",
   "execution_count": 13,
   "metadata": {},
   "outputs": [],
   "source": [
    "import yfinance as yf"
   ]
  },
  {
   "cell_type": "code",
   "execution_count": 7,
   "metadata": {},
   "outputs": [],
   "source": [
    "symbols = bhavList.to_dict(\"records\")"
   ]
  },
  {
   "cell_type": "code",
   "execution_count": 33,
   "metadata": {},
   "outputs": [
    {
     "name": "stderr",
     "output_type": "stream",
     "text": [
      "DEBUG: Starting new HTTPS connection (1): finance.yahoo.com:443\n",
      "DEBUG: https://finance.yahoo.com:443 \"GET /quote/20MICRONS.NS HTTP/1.1\" 200 None\n",
      "DEBUG: Starting new HTTPS connection (1): finance.yahoo.com:443\n",
      "DEBUG: https://finance.yahoo.com:443 \"GET /quote/20MICRONS.NS/holders HTTP/1.1\" 200 None\n",
      "DEBUG: Starting new HTTPS connection (1): finance.yahoo.com:443\n",
      "DEBUG: https://finance.yahoo.com:443 \"GET /quote/20MICRONS.NS/financials HTTP/1.1\" 200 None\n",
      "DEBUG: Starting new HTTPS connection (1): markets.businessinsider.com:443\n",
      "DEBUG: https://markets.businessinsider.com:443 \"GET /ajax/SearchController_Suggest?max_results=25&query=20%20MICRONS%20LTD HTTP/1.1\" 200 1264\n",
      "DEBUG: Starting new HTTPS connection (1): finance.yahoo.com:443\n",
      "DEBUG: https://finance.yahoo.com:443 \"GET /quote/21STCENMGM.NS HTTP/1.1\" 200 None\n",
      "DEBUG: Starting new HTTPS connection (1): finance.yahoo.com:443\n",
      "DEBUG: https://finance.yahoo.com:443 \"GET /quote/21STCENMGM.NS/holders HTTP/1.1\" 200 None\n",
      "DEBUG: Starting new HTTPS connection (1): finance.yahoo.com:443\n",
      "DEBUG: https://finance.yahoo.com:443 \"GET /quote/21STCENMGM.NS/financials HTTP/1.1\" 200 None\n",
      "DEBUG: Starting new HTTPS connection (1): markets.businessinsider.com:443\n",
      "DEBUG: https://markets.businessinsider.com:443 \"GET /ajax/SearchController_Suggest?max_results=25&query=21ST%20CENTURY%20MANAG HTTP/1.1\" 200 1130\n",
      "DEBUG: Starting new HTTPS connection (1): finance.yahoo.com:443\n",
      "DEBUG: https://finance.yahoo.com:443 \"GET /quote/3IINFOTECH.NS HTTP/1.1\" 200 None\n",
      "DEBUG: Starting new HTTPS connection (1): finance.yahoo.com:443\n",
      "DEBUG: https://finance.yahoo.com:443 \"GET /quote/3IINFOTECH.NS/holders HTTP/1.1\" 200 None\n",
      "DEBUG: Starting new HTTPS connection (1): finance.yahoo.com:443\n",
      "DEBUG: https://finance.yahoo.com:443 \"GET /quote/3IINFOTECH.NS/financials HTTP/1.1\" 200 None\n",
      "DEBUG: Starting new HTTPS connection (1): markets.businessinsider.com:443\n",
      "DEBUG: https://markets.businessinsider.com:443 \"GET /ajax/SearchController_Suggest?max_results=25&query=3I%20INFOTECH%20LTD HTTP/1.1\" 200 1316\n",
      "DEBUG: Starting new HTTPS connection (1): finance.yahoo.com:443\n",
      "DEBUG: https://finance.yahoo.com:443 \"GET /quote/3MINDIA.NS HTTP/1.1\" 200 None\n",
      "DEBUG: Starting new HTTPS connection (1): finance.yahoo.com:443\n",
      "DEBUG: https://finance.yahoo.com:443 \"GET /quote/3MINDIA.NS/holders HTTP/1.1\" 200 None\n",
      "DEBUG: Starting new HTTPS connection (1): finance.yahoo.com:443\n",
      "DEBUG: https://finance.yahoo.com:443 \"GET /quote/3MINDIA.NS/financials HTTP/1.1\" 200 None\n",
      "DEBUG: Starting new HTTPS connection (1): markets.businessinsider.com:443\n",
      "DEBUG: https://markets.businessinsider.com:443 \"GET /ajax/SearchController_Suggest?max_results=25&query=3M%20INDIA%20LTD HTTP/1.1\" 200 1244\n",
      "DEBUG: Starting new HTTPS connection (1): finance.yahoo.com:443\n",
      "DEBUG: https://finance.yahoo.com:443 \"GET /quote/3PLAND.NS HTTP/1.1\" 200 None\n",
      "DEBUG: Starting new HTTPS connection (1): finance.yahoo.com:443\n",
      "DEBUG: https://finance.yahoo.com:443 \"GET /quote/3PLAND.NS/holders HTTP/1.1\" 200 None\n",
      "DEBUG: Starting new HTTPS connection (1): finance.yahoo.com:443\n",
      "DEBUG: https://finance.yahoo.com:443 \"GET /quote/3PLAND.NS/financials HTTP/1.1\" 200 None\n",
      "DEBUG: Starting new HTTPS connection (1): markets.businessinsider.com:443\n",
      "DEBUG: https://markets.businessinsider.com:443 \"GET /ajax/SearchController_Suggest?max_results=25&query=3P%20LAND%20HOLDINGS%20L HTTP/1.1\" 200 1146\n"
     ]
    }
   ],
   "source": [
    "for symbol in symbols[:5]:\n",
    "    try:\n",
    "        if symbol[\"isin\"] == yf.Ticker(f\"{symbol['nse_symbol']}.NS\").isin:\n",
    "            symbol[\"yf_nse_symbol\"] = f\"{symbol['nse_symbol']}.NS\"\n",
    "        else:\n",
    "            symbol[\"yf_nse_symbol\"] = \"ISIN_NOT_FOUND\"\n",
    "    except Exception as e:\n",
    "        symbol[\"yf_nse_symbol\"] = \"NOT_FOUND_ERROR\""
   ]
  },
  {
   "cell_type": "code",
   "execution_count": 31,
   "metadata": {},
   "outputs": [],
   "source": [
    "backup_symbols = symbols"
   ]
  },
  {
   "cell_type": "code",
   "execution_count": 36,
   "metadata": {},
   "outputs": [],
   "source": [
    "out = pd.DataFrame(backup_symbols)\n",
    "out.to_csv(\"yfrunbackukp.csv\")"
   ]
  },
  {
   "cell_type": "code",
   "execution_count": 34,
   "metadata": {
    "scrolled": true
   },
   "outputs": [
    {
     "data": {
      "text/plain": [
       "[{'isin': 'INE144J01027',\n",
       "  'nse_symbol': '20MICRONS',\n",
       "  'nse_series': 'EQ',\n",
       "  'bse_sc_code': '533022',\n",
       "  'SC_NAME': '20 MICRONS',\n",
       "  'bse_sc_group': 'B',\n",
       "  'bse_sc_type': 'Q',\n",
       "  'yf_nse_symbol': '20MICRONS.NS'},\n",
       " {'isin': 'INE253B01015',\n",
       "  'nse_symbol': '21STCENMGM',\n",
       "  'nse_series': 'EQ',\n",
       "  'bse_sc_code': '526921',\n",
       "  'SC_NAME': '21ST CEN.MGM',\n",
       "  'bse_sc_group': 'B',\n",
       "  'bse_sc_type': 'Q',\n",
       "  'yf_nse_symbol': 'ISIN_NOT_FOUND'},\n",
       " {'isin': 'INE748C01020',\n",
       "  'nse_symbol': '3IINFOTECH',\n",
       "  'nse_series': 'EQ',\n",
       "  'bse_sc_code': '532628',\n",
       "  'SC_NAME': '3I INFOTECH',\n",
       "  'bse_sc_group': 'B',\n",
       "  'bse_sc_type': 'Q',\n",
       "  'yf_nse_symbol': 'ISIN_NOT_FOUND'},\n",
       " {'isin': 'INE470A01017',\n",
       "  'nse_symbol': '3MINDIA',\n",
       "  'nse_series': 'EQ',\n",
       "  'bse_sc_code': '523395',\n",
       "  'SC_NAME': '3M INDIA LTD',\n",
       "  'bse_sc_group': 'A',\n",
       "  'bse_sc_type': 'Q',\n",
       "  'yf_nse_symbol': 'ISIN_NOT_FOUND'},\n",
       " {'isin': 'INE105C01023',\n",
       "  'nse_symbol': '3PLAND',\n",
       "  'nse_series': 'EQ',\n",
       "  'bse_sc_code': '516092',\n",
       "  'SC_NAME': '3PLAND',\n",
       "  'bse_sc_group': 'B',\n",
       "  'bse_sc_type': 'Q',\n",
       "  'yf_nse_symbol': 'ISIN_NOT_FOUND'}]"
      ]
     },
     "execution_count": 34,
     "metadata": {},
     "output_type": "execute_result"
    }
   ],
   "source": [
    "symbols[:5]"
   ]
  },
  {
   "cell_type": "markdown",
   "metadata": {},
   "source": [
    "**Read this in more detail**\n",
    "**https://towardsdatascience.com/the-unofficial-yahoo-finance-api-32dcf5d53df**"
   ]
  },
  {
   "cell_type": "code",
   "execution_count": 8,
   "metadata": {},
   "outputs": [],
   "source": [
    "from yahooquery import Ticker"
   ]
  },
  {
   "cell_type": "code",
   "execution_count": 9,
   "metadata": {},
   "outputs": [],
   "source": [
    "cesc = Ticker(\"cesc.ns\")"
   ]
  }
 ],
 "metadata": {
  "kernelspec": {
   "display_name": "env",
   "language": "python",
   "name": "env"
  },
  "language_info": {
   "codemirror_mode": {
    "name": "ipython",
    "version": 3
   },
   "file_extension": ".py",
   "mimetype": "text/x-python",
   "name": "python",
   "nbconvert_exporter": "python",
   "pygments_lexer": "ipython3",
   "version": "3.8.5"
  }
 },
 "nbformat": 4,
 "nbformat_minor": 4
}
