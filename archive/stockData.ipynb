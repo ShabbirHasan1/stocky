{
 "cells": [
  {
   "cell_type": "code",
   "execution_count": 4,
   "metadata": {},
   "outputs": [],
   "source": [
    "import glob\n",
    "import json"
   ]
  },
  {
   "cell_type": "code",
   "execution_count": 2,
   "metadata": {},
   "outputs": [],
   "source": [
    "files = glob.glob(\"yahoo/*.json\")"
   ]
  },
  {
   "cell_type": "code",
   "execution_count": 72,
   "metadata": {},
   "outputs": [],
   "source": [
    "def getKeys(data: json, keys: list) -> list:\n",
    "        data = data\n",
    "        keys = keys + list(data.keys())\n",
    "        return list(set(keys))"
   ]
  },
  {
   "cell_type": "code",
   "execution_count": 64,
   "metadata": {},
   "outputs": [
    {
     "data": {
      "text/plain": [
       "['maxAge', 'incomeStatementHistory']"
      ]
     },
     "execution_count": 64,
     "metadata": {},
     "output_type": "execute_result"
    }
   ],
   "source": [
    "keys = []\n",
    "for file in files[:5]:\n",
    "    try:\n",
    "        with open(file) as dataFile:\n",
    "            data = json.load(dataFile)\n",
    "        symbol = list(data.keys())[0]\n",
    "        # print(data[symbol][\"institutionOwnership\"].keys())\n",
    "        keys = getKeys(data[symbol], keys)\n",
    "    except Exception as e:\n",
    "        print(file + \" :\" + str(e))\n",
    "keys"
   ]
  },
  {
   "cell_type": "code",
   "execution_count": 115,
   "metadata": {},
   "outputs": [],
   "source": [
    "def dict_merge(merged, bse):\n",
    "    \"\"\" Recursive dict merge. Inspired by :meth:``dict.update()``, instead of\n",
    "    updating only top-level keys, dict_merge recurses down into dicts nested\n",
    "    to an arbitrary depth, updating keys. The ``merge_dct`` is merged into\n",
    "    ``dct``.\n",
    "    :param dct: dict onto which the merge is executed\n",
    "    :param merge_dct: dct merged into dct\n",
    "    :return: None\n",
    "    \"\"\"\n",
    "    for k, v in merge_dct.items():\n",
    "        if (k in dct and isinstance(dct[k], dict)\n",
    "                and isinstance(merge_dct[k], collections.Mapping)):\n",
    "            dict_merge(dct[k], merge_dct[k])\n",
    "        else:\n",
    "            dct[k] = merge_dct[k]"
   ]
  },
  {
   "cell_type": "code",
   "execution_count": 119,
   "metadata": {},
   "outputs": [],
   "source": [
    "dict_merge(finalDict, bse[\"CESC.BO\"])"
   ]
  },
  {
   "cell_type": "code",
   "execution_count": null,
   "metadata": {},
   "outputs": [],
   "source": []
  }
 ],
 "metadata": {
  "kernelspec": {
   "display_name": "Python 3",
   "language": "python",
   "name": "python3"
  },
  "language_info": {
   "codemirror_mode": {
    "name": "ipython",
    "version": 3
   },
   "file_extension": ".py",
   "mimetype": "text/x-python",
   "name": "python",
   "nbconvert_exporter": "python",
   "pygments_lexer": "ipython3",
   "version": "3.8.5"
  }
 },
 "nbformat": 4,
 "nbformat_minor": 4
}
