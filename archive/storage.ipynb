{
 "cells": [
  {
   "cell_type": "code",
   "execution_count": 3,
   "metadata": {},
   "outputs": [],
   "source": [
    "from firebase_admin import initialize_app, auth\n",
    "from firebase_admin.auth import UserRecord\n",
    "from firebase_admin import storage, credentials\n",
    "import os\n",
    "from dotenv import load_dotenv\n",
    "load_dotenv()\n",
    "\n",
    "devCred = credentials.Certificate(os.environ.get(\"GOOGLE_APPLICATION_CREDENTIALS\"))\n",
    "default = initialize_app()\n",
    "app = initialize_app(devCred, {'storageBucket': 'solid-umbrella-30912.appspot.com'}, name=\"dev\")\n",
    "bucket = storage.bucket('solid-umbrella-30912.appspot.com')"
   ]
  },
  {
   "cell_type": "code",
   "execution_count": 4,
   "metadata": {},
   "outputs": [],
   "source": [
    "userID = \"ULpesMgUF7TvZp9diFhiWdtCzid2\"\n",
    "blob = bucket.blob(f\"userData/{userID}/holdings/holdings.json\")"
   ]
  },
  {
   "cell_type": "code",
   "execution_count": 8,
   "metadata": {},
   "outputs": [],
   "source": [
    "# Upload a file\n",
    "with open(\"zerodha/holdings.json\", \"r\") as file:\n",
    "    blob.upload_from_string(file.read())"
   ]
  },
  {
   "cell_type": "code",
   "execution_count": 2,
   "metadata": {},
   "outputs": [],
   "source": []
  },
  {
   "cell_type": "code",
   "execution_count": 9,
   "metadata": {},
   "outputs": [],
   "source": [
    "URL = bucket.generate_signed_url(expiration=3600)"
   ]
  },
  {
   "cell_type": "code",
   "execution_count": 10,
   "metadata": {},
   "outputs": [
    {
     "data": {
      "text/plain": [
       "'https://storage.googleapis.com/solid-umbrella-30912.appspot.com?Expires=3600&GoogleAccessId=firebase-adminsdk-zj85d%40solid-umbrella-30912.iam.gserviceaccount.com&Signature=fmME6RuG1%2FVWBqhUd4KFJE%2FUo813zyTASMyM5XsibKDGDQT0%2FyPh7AllwubW6DQYLUWtmU7R2dE3RtaAkBlQH%2BH1NpmnT3F%2Fpx1dpJtMr%2F%2B0%2Bp2JFPEGstZ86Cw2bMIdX2hptUJPZmL41IM5j%2BE5tGWQZzY%2FSlKnkXq5uvMmIMbvkPXW%2B1J3b1%2BEinx0ARRqlFS4g8uUtTM6d5L%2BEeUTYe0TRVg0M%2F%2Fjyt1QqOzXc8stIsZVvRdQ0Wel373tGTREgDB5OY%2FzeH8TghPvZlYgtVP%2FxA%2BnLbyrCULdORUL5Nvn3rHk2Xj2nsGX%2BaU8wQ3H5RRFdrUZJmpy%2FTwSP%2Bsoeg%3D%3D'"
      ]
     },
     "execution_count": 10,
     "metadata": {},
     "output_type": "execute_result"
    }
   ],
   "source": [
    "URL"
   ]
  },
  {
   "cell_type": "code",
   "execution_count": null,
   "metadata": {},
   "outputs": [],
   "source": []
  }
 ],
 "metadata": {
  "kernelspec": {
   "display_name": "env",
   "language": "python",
   "name": "env"
  },
  "language_info": {
   "codemirror_mode": {
    "name": "ipython",
    "version": 3
   },
   "file_extension": ".py",
   "mimetype": "text/x-python",
   "name": "python",
   "nbconvert_exporter": "python",
   "pygments_lexer": "ipython3",
   "version": "3.8.5"
  }
 },
 "nbformat": 4,
 "nbformat_minor": 4
}
